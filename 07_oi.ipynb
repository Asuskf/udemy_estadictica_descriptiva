{
  "nbformat": 4,
  "nbformat_minor": 0,
  "metadata": {
    "colab": {
      "provenance": [],
      "authorship_tag": "ABX9TyM1rZuoc095yIXScwk7sc05",
      "include_colab_link": true
    },
    "kernelspec": {
      "name": "python3",
      "display_name": "Python 3"
    },
    "language_info": {
      "name": "python"
    }
  },
  "cells": [
    {
      "cell_type": "markdown",
      "metadata": {
        "id": "view-in-github",
        "colab_type": "text"
      },
      "source": [
        "<a href=\"https://colab.research.google.com/github/Asuskf/udemy_estadictica_descriptiva/blob/main/07_oi.ipynb\" target=\"_parent\"><img src=\"https://colab.research.google.com/assets/colab-badge.svg\" alt=\"Open In Colab\"/></a>"
      ]
    },
    {
      "cell_type": "markdown",
      "source": [
        "# Input output data"
      ],
      "metadata": {
        "id": "na3raPSTENM0"
      }
    },
    {
      "cell_type": "code",
      "execution_count": null,
      "metadata": {
        "colab": {
          "base_uri": "https://localhost:8080/"
        },
        "id": "0c4Ib_s7EKDo",
        "outputId": "98aab73d-c0a9-4979-a7c8-5da1ffb50297"
      },
      "outputs": [
        {
          "output_type": "stream",
          "name": "stdout",
          "text": [
            "Hola me llamo David\n"
          ]
        }
      ],
      "source": [
        "print('Hola me llamo David')"
      ]
    },
    {
      "cell_type": "code",
      "source": [
        "x = 7\n",
        "print(x)"
      ],
      "metadata": {
        "colab": {
          "base_uri": "https://localhost:8080/"
        },
        "id": "rjBcNhCMEUjE",
        "outputId": "027f34ae-2acf-4f7b-ae39-c9afdebccfb3"
      },
      "execution_count": null,
      "outputs": [
        {
          "output_type": "stream",
          "name": "stdout",
          "text": [
            "7\n"
          ]
        }
      ]
    },
    {
      "cell_type": "code",
      "source": [
        "print(f'El valor de la variable x es: {x}')"
      ],
      "metadata": {
        "colab": {
          "base_uri": "https://localhost:8080/"
        },
        "id": "_tC75v3sEXdT",
        "outputId": "b456bacf-0ec9-4d53-884a-d194ca909024"
      },
      "execution_count": null,
      "outputs": [
        {
          "output_type": "stream",
          "name": "stdout",
          "text": [
            "El valor de la variable x es: 7\n"
          ]
        }
      ]
    },
    {
      "cell_type": "code",
      "source": [
        "texto = input('Introduce aquí tu nombre: ')"
      ],
      "metadata": {
        "colab": {
          "base_uri": "https://localhost:8080/"
        },
        "id": "jZ6ahgadEf4s",
        "outputId": "35a489f9-8443-4104-c57d-1c885b8e1b85"
      },
      "execution_count": null,
      "outputs": [
        {
          "name": "stdout",
          "output_type": "stream",
          "text": [
            "Introduce aquí tu nombre: 25\n"
          ]
        }
      ]
    },
    {
      "cell_type": "code",
      "source": [
        "texto"
      ],
      "metadata": {
        "colab": {
          "base_uri": "https://localhost:8080/",
          "height": 35
        },
        "id": "ihO8cH6AE-Ae",
        "outputId": "b2710871-0c3d-4d5c-9a88-f000ee3b80dc"
      },
      "execution_count": null,
      "outputs": [
        {
          "output_type": "execute_result",
          "data": {
            "text/plain": [
              "'25'"
            ],
            "application/vnd.google.colaboratory.intrinsic+json": {
              "type": "string"
            }
          },
          "metadata": {},
          "execution_count": 6
        }
      ]
    },
    {
      "cell_type": "code",
      "source": [
        "numero = int(input('Introduce tu edad: '))"
      ],
      "metadata": {
        "colab": {
          "base_uri": "https://localhost:8080/"
        },
        "id": "J99XCtEOFEWt",
        "outputId": "5a3aceeb-6c46-4e00-c3db-0ee0716a1e36"
      },
      "execution_count": null,
      "outputs": [
        {
          "name": "stdout",
          "output_type": "stream",
          "text": [
            "Introduce tu edad: 25\n"
          ]
        }
      ]
    },
    {
      "cell_type": "code",
      "source": [
        "2 * numero + 5"
      ],
      "metadata": {
        "colab": {
          "base_uri": "https://localhost:8080/"
        },
        "id": "2yBm9vxOFOnt",
        "outputId": "2955584d-d73e-4faf-bd27-2092af888db7"
      },
      "execution_count": null,
      "outputs": [
        {
          "output_type": "execute_result",
          "data": {
            "text/plain": [
              "55"
            ]
          },
          "metadata": {},
          "execution_count": 8
        }
      ]
    },
    {
      "cell_type": "markdown",
      "source": [
        "## Decision operator"
      ],
      "metadata": {
        "id": "-zOWDn_imdE6"
      }
    },
    {
      "cell_type": "code",
      "source": [
        "x = int(input('Escribe un número: '))\n"
      ],
      "metadata": {
        "colab": {
          "base_uri": "https://localhost:8080/"
        },
        "id": "p604N-QFmcJ2",
        "outputId": "9c3bb0e1-9ba0-49bb-e91d-024eb5aea2e0"
      },
      "execution_count": null,
      "outputs": [
        {
          "name": "stdout",
          "output_type": "stream",
          "text": [
            "Escribe un número: 5\n"
          ]
        }
      ]
    },
    {
      "cell_type": "code",
      "source": [
        "if x == 5:\n",
        "    print('Es 5')\n",
        "else:\n",
        "    print('No es 5')"
      ],
      "metadata": {
        "colab": {
          "base_uri": "https://localhost:8080/"
        },
        "id": "LEm0qDdOnA0j",
        "outputId": "373c3f48-8e94-4f92-ac6f-f1cf79979b19"
      },
      "execution_count": null,
      "outputs": [
        {
          "output_type": "stream",
          "name": "stdout",
          "text": [
            "Es 5\n"
          ]
        }
      ]
    },
    {
      "cell_type": "code",
      "source": [
        "if x < 5:\n",
        "    print(\"Has escrito un número menor que 5\")\n",
        "elif 5 >= x < 10:\n",
        "    print(\"Has escrito un número mayor o igual que 5 y menor que 10\")\n"
      ],
      "metadata": {
        "colab": {
          "base_uri": "https://localhost:8080/"
        },
        "id": "fVBb5kY7nH7V",
        "outputId": "9a6b207b-462d-4e64-993e-1814b83e63d5"
      },
      "execution_count": null,
      "outputs": [
        {
          "output_type": "stream",
          "name": "stdout",
          "text": [
            "Has escrito un número mayor o igual que 5 y menor que 10\n"
          ]
        }
      ]
    },
    {
      "cell_type": "code",
      "source": [
        "x = int(input('Ingresa un número mayor que 0 menor que 10: '))\n",
        "if 0 >= x < 10:\n",
        "    print('Número dentro del rango 0, 10')\n",
        "else:\n",
        "    print('Número fuera del rango 0, 10')"
      ],
      "metadata": {
        "colab": {
          "base_uri": "https://localhost:8080/"
        },
        "id": "qQUarPKKniW1",
        "outputId": "01bd8728-f8d0-4bf7-e71f-adb8891b43af"
      },
      "execution_count": null,
      "outputs": [
        {
          "output_type": "stream",
          "name": "stdout",
          "text": [
            "Ingresa un número mayor que 0 menor que 10: 11\n",
            "Número fuera del rango 0, 10\n"
          ]
        }
      ]
    },
    {
      "cell_type": "code",
      "source": [],
      "metadata": {
        "id": "xGvVrVckoI7E"
      },
      "execution_count": null,
      "outputs": []
    }
  ]
}