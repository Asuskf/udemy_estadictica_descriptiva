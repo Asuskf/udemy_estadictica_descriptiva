{
  "nbformat": 4,
  "nbformat_minor": 0,
  "metadata": {
    "colab": {
      "provenance": [],
      "authorship_tag": "ABX9TyPoVIg9qG3AEqu9aF9VFIOy",
      "include_colab_link": true
    },
    "kernelspec": {
      "name": "python3",
      "display_name": "Python 3"
    },
    "language_info": {
      "name": "python"
    }
  },
  "cells": [
    {
      "cell_type": "markdown",
      "metadata": {
        "id": "view-in-github",
        "colab_type": "text"
      },
      "source": [
        "<a href=\"https://colab.research.google.com/github/Asuskf/udemy_estadictica_descriptiva/blob/main/06_functions.ipynb\" target=\"_parent\"><img src=\"https://colab.research.google.com/assets/colab-badge.svg\" alt=\"Open In Colab\"/></a>"
      ]
    },
    {
      "cell_type": "markdown",
      "source": [
        "## Python functions"
      ],
      "metadata": {
        "id": "Fd0VvH7fsTBE"
      }
    },
    {
      "cell_type": "code",
      "source": [
        "# metodos\n",
        "\n",
        "def suma(x, y):\n",
        "    return x+y"
      ],
      "metadata": {
        "id": "_BnqPWOMsUrN"
      },
      "execution_count": 1,
      "outputs": []
    },
    {
      "cell_type": "code",
      "source": [
        "class Operaciones(object):\n",
        "    def suma(self, x, y):\n",
        "        self.resultado = x + y\n",
        "        return self.resultado"
      ],
      "metadata": {
        "id": "ROLcSiu1s-r-"
      },
      "execution_count": 2,
      "outputs": []
    },
    {
      "cell_type": "code",
      "source": [
        "suma(2, 3)"
      ],
      "metadata": {
        "colab": {
          "base_uri": "https://localhost:8080/"
        },
        "id": "vZ_EkO6RtPs0",
        "outputId": "8708958d-ebca-4325-b583-ea74f599623f"
      },
      "execution_count": 4,
      "outputs": [
        {
          "output_type": "execute_result",
          "data": {
            "text/plain": [
              "5"
            ]
          },
          "metadata": {},
          "execution_count": 4
        }
      ]
    },
    {
      "cell_type": "code",
      "source": [
        "operaciones = Operaciones()\n",
        "operaciones.suma(2, 3)"
      ],
      "metadata": {
        "colab": {
          "base_uri": "https://localhost:8080/"
        },
        "id": "2IzjmBRLtRgd",
        "outputId": "4f018a42-dd17-4228-aaee-06f86f705eac"
      },
      "execution_count": 9,
      "outputs": [
        {
          "output_type": "execute_result",
          "data": {
            "text/plain": [
              "5"
            ]
          },
          "metadata": {},
          "execution_count": 9
        }
      ]
    },
    {
      "cell_type": "code",
      "source": [
        "def saludar():\n",
        "    name = input('Introduce tu nombre: ')\n",
        "    if name:\n",
        "        print(f'Hola {name}')\n",
        "    else:\n",
        "        print('Hola estoy programando')"
      ],
      "metadata": {
        "id": "qXqDLFc1tX_s"
      },
      "execution_count": 14,
      "outputs": []
    },
    {
      "cell_type": "code",
      "source": [
        "saludar()"
      ],
      "metadata": {
        "colab": {
          "base_uri": "https://localhost:8080/"
        },
        "id": "CZZNazLsuqQF",
        "outputId": "27303fd7-1a76-4210-a46f-35d459090a51"
      },
      "execution_count": 15,
      "outputs": [
        {
          "output_type": "stream",
          "name": "stdout",
          "text": [
            "Introduce tu nombre: David\n",
            "Hola David\n"
          ]
        }
      ]
    },
    {
      "cell_type": "code",
      "source": [
        "suma(2, 3) * 5 "
      ],
      "metadata": {
        "colab": {
          "base_uri": "https://localhost:8080/"
        },
        "id": "R6Gu1NUaurak",
        "outputId": "1373f8d9-0bc6-41bd-c1f4-9fd19fe132c5"
      },
      "execution_count": 16,
      "outputs": [
        {
          "output_type": "execute_result",
          "data": {
            "text/plain": [
              "25"
            ]
          },
          "metadata": {},
          "execution_count": 16
        }
      ]
    },
    {
      "cell_type": "code",
      "source": [
        "def busca_pares():\n",
        "    for x in range(10):\n",
        "        if x % 2 == 0:\n",
        "            return \n",
        "    print('Fin de la ejecución')"
      ],
      "metadata": {
        "id": "AkcmE1K7vmz7"
      },
      "execution_count": 18,
      "outputs": []
    },
    {
      "cell_type": "code",
      "source": [
        "busca_pares()"
      ],
      "metadata": {
        "id": "5LIa6lo1v4As"
      },
      "execution_count": 20,
      "outputs": []
    },
    {
      "cell_type": "code",
      "source": [
        "def suma_resta(x, y=0):\n",
        "    suma = x + y\n",
        "    resta = x - y\n",
        "    return (suma, resta)"
      ],
      "metadata": {
        "id": "-EPxBRAgv7C1"
      },
      "execution_count": 26,
      "outputs": []
    },
    {
      "cell_type": "code",
      "source": [
        "suma_resta(x=2, y=3)"
      ],
      "metadata": {
        "colab": {
          "base_uri": "https://localhost:8080/"
        },
        "id": "LFI0EULBwKLU",
        "outputId": "c0d50742-b0ec-41f5-91cf-db52b7bcbeee"
      },
      "execution_count": 28,
      "outputs": [
        {
          "output_type": "execute_result",
          "data": {
            "text/plain": [
              "(5, -1)"
            ]
          },
          "metadata": {},
          "execution_count": 28
        }
      ]
    },
    {
      "cell_type": "code",
      "source": [
        "suma_resta(5)"
      ],
      "metadata": {
        "colab": {
          "base_uri": "https://localhost:8080/"
        },
        "id": "hkRR81ImwMU0",
        "outputId": "bd2ac0cf-a876-4f9a-d55a-734f90ef867c"
      },
      "execution_count": 29,
      "outputs": [
        {
          "output_type": "execute_result",
          "data": {
            "text/plain": [
              "(5, 5)"
            ]
          },
          "metadata": {},
          "execution_count": 29
        }
      ]
    },
    {
      "cell_type": "code",
      "source": [
        "def suma(*args):\n",
        "    return sum(args)"
      ],
      "metadata": {
        "id": "SKZdD4hUwmhk"
      },
      "execution_count": 30,
      "outputs": []
    },
    {
      "cell_type": "code",
      "source": [
        "suma(0, 1, 2, 3, 4, 5, 6, 7, 8, 9, 10)"
      ],
      "metadata": {
        "colab": {
          "base_uri": "https://localhost:8080/"
        },
        "id": "poSv_Eiew6mP",
        "outputId": "12e1b57e-1783-41bf-f6f5-92c764605ca8"
      },
      "execution_count": 35,
      "outputs": [
        {
          "output_type": "execute_result",
          "data": {
            "text/plain": [
              "55"
            ]
          },
          "metadata": {},
          "execution_count": 35
        }
      ]
    },
    {
      "cell_type": "code",
      "source": [
        "def suma_cuadrados(*args):\n",
        "    total = 0\n",
        "    for d in args:\n",
        "        total += d ** 2\n",
        "    return total"
      ],
      "metadata": {
        "id": "WXlC_8_dw8xW"
      },
      "execution_count": 39,
      "outputs": []
    },
    {
      "cell_type": "code",
      "source": [
        "suma_cuadrados(1, 2, 3)"
      ],
      "metadata": {
        "colab": {
          "base_uri": "https://localhost:8080/"
        },
        "id": "voU2cSKoxZC0",
        "outputId": "3afb444c-ae48-4966-bcde-4dedfe5b7b17"
      },
      "execution_count": 40,
      "outputs": [
        {
          "output_type": "execute_result",
          "data": {
            "text/plain": [
              "14"
            ]
          },
          "metadata": {},
          "execution_count": 40
        }
      ]
    },
    {
      "cell_type": "code",
      "source": [
        "suma_cuadrados(2.5, 3.6, 8.9, -2, 12.67)"
      ],
      "metadata": {
        "colab": {
          "base_uri": "https://localhost:8080/"
        },
        "id": "oUq4Ph8Sxc7E",
        "outputId": "e1efb9e6-0cb0-40e5-d11a-4c9d1c8a7694"
      },
      "execution_count": 41,
      "outputs": [
        {
          "output_type": "execute_result",
          "data": {
            "text/plain": [
              "262.9489"
            ]
          },
          "metadata": {},
          "execution_count": 41
        }
      ]
    },
    {
      "cell_type": "markdown",
      "source": [
        "## Anonym function"
      ],
      "metadata": {
        "id": "fsbFfIRsxzF1"
      }
    },
    {
      "cell_type": "code",
      "source": [
        "doble = lambda x: x*2"
      ],
      "metadata": {
        "id": "i3JIelasxk5e"
      },
      "execution_count": 42,
      "outputs": []
    },
    {
      "cell_type": "code",
      "source": [
        "doble(4)"
      ],
      "metadata": {
        "colab": {
          "base_uri": "https://localhost:8080/"
        },
        "id": "G_Q63M-Lx988",
        "outputId": "a371b80b-8d62-4a4f-eb9a-013bb85999f8"
      },
      "execution_count": 43,
      "outputs": [
        {
          "output_type": "execute_result",
          "data": {
            "text/plain": [
              "8"
            ]
          },
          "metadata": {},
          "execution_count": 43
        }
      ]
    },
    {
      "cell_type": "code",
      "source": [
        "cuadrado = lambda x: x**2"
      ],
      "metadata": {
        "id": "5XAOcWIgx_Ql"
      },
      "execution_count": 44,
      "outputs": []
    },
    {
      "cell_type": "code",
      "source": [
        "cuadrado(5)"
      ],
      "metadata": {
        "colab": {
          "base_uri": "https://localhost:8080/"
        },
        "id": "gU5f3NCeyC_s",
        "outputId": "1c19ba0d-0f5b-4616-9be5-0c92d892119b"
      },
      "execution_count": 45,
      "outputs": [
        {
          "output_type": "execute_result",
          "data": {
            "text/plain": [
              "25"
            ]
          },
          "metadata": {},
          "execution_count": 45
        }
      ]
    },
    {
      "cell_type": "code",
      "source": [
        "suma = lambda x, y: x + y"
      ],
      "metadata": {
        "id": "buXreTIpyEGM"
      },
      "execution_count": 46,
      "outputs": []
    },
    {
      "cell_type": "code",
      "source": [
        "suma(2, 3)"
      ],
      "metadata": {
        "colab": {
          "base_uri": "https://localhost:8080/"
        },
        "id": "OmXRVt5syWdu",
        "outputId": "e3751491-9b71-4e69-81c1-dd6a0f566e98"
      },
      "execution_count": 47,
      "outputs": [
        {
          "output_type": "execute_result",
          "data": {
            "text/plain": [
              "5"
            ]
          },
          "metadata": {},
          "execution_count": 47
        }
      ]
    },
    {
      "cell_type": "code",
      "source": [
        "from functools import reduce"
      ],
      "metadata": {
        "id": "vxtgMbImyXc9"
      },
      "execution_count": 48,
      "outputs": []
    },
    {
      "cell_type": "code",
      "source": [
        "data = [1, 2, 3, 4, 5, 6, 7, 8, 9, 10]"
      ],
      "metadata": {
        "id": "j2VYSkl4ynUk"
      },
      "execution_count": 49,
      "outputs": []
    },
    {
      "cell_type": "code",
      "source": [
        "filtered_data = list(filter(lambda x : (x * 2 > 8), data))"
      ],
      "metadata": {
        "id": "UGdmxbO3yr4c"
      },
      "execution_count": 51,
      "outputs": []
    },
    {
      "cell_type": "code",
      "source": [
        "filtered_data"
      ],
      "metadata": {
        "colab": {
          "base_uri": "https://localhost:8080/"
        },
        "id": "i_veFXt1y5ft",
        "outputId": "2b9702c9-98dd-462f-b5d3-044baf1a1fdc"
      },
      "execution_count": 52,
      "outputs": [
        {
          "output_type": "execute_result",
          "data": {
            "text/plain": [
              "[5, 6, 7, 8, 9, 10]"
            ]
          },
          "metadata": {},
          "execution_count": 52
        }
      ]
    },
    {
      "cell_type": "code",
      "source": [
        "mappend_data = list(map(lambda x: x * 2, data))"
      ],
      "metadata": {
        "id": "1tBg6zLHy7_k"
      },
      "execution_count": 53,
      "outputs": []
    },
    {
      "cell_type": "code",
      "source": [
        "mappend_data"
      ],
      "metadata": {
        "colab": {
          "base_uri": "https://localhost:8080/"
        },
        "id": "CZPn36anzFbl",
        "outputId": "05506f1b-86a0-4364-8e4f-418cf0ae09e0"
      },
      "execution_count": 54,
      "outputs": [
        {
          "output_type": "execute_result",
          "data": {
            "text/plain": [
              "[2, 4, 6, 8, 10, 12, 14, 16, 18, 20]"
            ]
          },
          "metadata": {},
          "execution_count": 54
        }
      ]
    },
    {
      "cell_type": "code",
      "source": [
        "reduce_data = reduce(lambda x, y: x + y, data)"
      ],
      "metadata": {
        "id": "x6l-NqFPzGpd"
      },
      "execution_count": 55,
      "outputs": []
    },
    {
      "cell_type": "code",
      "source": [
        "reduce_data"
      ],
      "metadata": {
        "colab": {
          "base_uri": "https://localhost:8080/"
        },
        "id": "KXldfjwlzQQz",
        "outputId": "6fe242f4-fb80-4322-d9e6-d0a7697482d8"
      },
      "execution_count": 56,
      "outputs": [
        {
          "output_type": "execute_result",
          "data": {
            "text/plain": [
              "55"
            ]
          },
          "metadata": {},
          "execution_count": 56
        }
      ]
    },
    {
      "cell_type": "code",
      "source": [],
      "metadata": {
        "id": "uUT4KyknzR4z"
      },
      "execution_count": null,
      "outputs": []
    }
  ]
}