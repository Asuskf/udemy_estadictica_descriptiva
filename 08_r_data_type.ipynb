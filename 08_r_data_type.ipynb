{
  "nbformat": 4,
  "nbformat_minor": 0,
  "metadata": {
    "colab": {
      "provenance": [],
      "authorship_tag": "ABX9TyNfA8T2y82w9NClHzTSZzFq",
      "include_colab_link": true
    },
    "kernelspec": {
      "name": "ir",
      "display_name": "R"
    },
    "language_info": {
      "name": "R"
    }
  },
  "cells": [
    {
      "cell_type": "markdown",
      "metadata": {
        "id": "view-in-github",
        "colab_type": "text"
      },
      "source": [
        "<a href=\"https://colab.research.google.com/github/Asuskf/udemy_estadictica_descriptiva/blob/main/08_r_data_type.ipynb\" target=\"_parent\"><img src=\"https://colab.research.google.com/assets/colab-badge.svg\" alt=\"Open In Colab\"/></a>"
      ]
    },
    {
      "cell_type": "code",
      "source": [
        "c(1, 2, 3)"
      ],
      "metadata": {
        "id": "zWoctMn-bckO",
        "colab": {
          "base_uri": "https://localhost:8080/",
          "height": 34
        },
        "outputId": "604743c4-c846-4955-c8c5-e77249916168"
      },
      "execution_count": null,
      "outputs": [
        {
          "output_type": "display_data",
          "data": {
            "text/html": [
              "<style>\n",
              ".list-inline {list-style: none; margin:0; padding: 0}\n",
              ".list-inline>li {display: inline-block}\n",
              ".list-inline>li:not(:last-child)::after {content: \"\\00b7\"; padding: 0 .5ex}\n",
              "</style>\n",
              "<ol class=list-inline><li>1</li><li>2</li><li>3</li></ol>\n"
            ],
            "text/markdown": "1. 1\n2. 2\n3. 3\n\n\n",
            "text/latex": "\\begin{enumerate*}\n\\item 1\n\\item 2\n\\item 3\n\\end{enumerate*}\n",
            "text/plain": [
              "[1] 1 2 3"
            ]
          },
          "metadata": {}
        }
      ]
    },
    {
      "cell_type": "code",
      "source": [
        "rep('Mates', 7)"
      ],
      "metadata": {
        "colab": {
          "base_uri": "https://localhost:8080/",
          "height": 34
        },
        "id": "1MUW7G9b2mfA",
        "outputId": "a155cfbb-a510-42d7-d245-134142cb8862"
      },
      "execution_count": null,
      "outputs": [
        {
          "output_type": "display_data",
          "data": {
            "text/html": [
              "<style>\n",
              ".list-inline {list-style: none; margin:0; padding: 0}\n",
              ".list-inline>li {display: inline-block}\n",
              ".list-inline>li:not(:last-child)::after {content: \"\\00b7\"; padding: 0 .5ex}\n",
              "</style>\n",
              "<ol class=list-inline><li>'Mates'</li><li>'Mates'</li><li>'Mates'</li><li>'Mates'</li><li>'Mates'</li><li>'Mates'</li><li>'Mates'</li></ol>\n"
            ],
            "text/markdown": "1. 'Mates'\n2. 'Mates'\n3. 'Mates'\n4. 'Mates'\n5. 'Mates'\n6. 'Mates'\n7. 'Mates'\n\n\n",
            "text/latex": "\\begin{enumerate*}\n\\item 'Mates'\n\\item 'Mates'\n\\item 'Mates'\n\\item 'Mates'\n\\item 'Mates'\n\\item 'Mates'\n\\item 'Mates'\n\\end{enumerate*}\n",
            "text/plain": [
              "[1] \"Mates\" \"Mates\" \"Mates\" \"Mates\" \"Mates\" \"Mates\" \"Mates\""
            ]
          },
          "metadata": {}
        }
      ]
    },
    {
      "cell_type": "code",
      "source": [
        "c(2, TRUE, 3.5)"
      ],
      "metadata": {
        "colab": {
          "base_uri": "https://localhost:8080/",
          "height": 34
        },
        "id": "aOiGDl952qYI",
        "outputId": "8b6f6e99-f193-419f-b990-e2268a5cecb8"
      },
      "execution_count": null,
      "outputs": [
        {
          "output_type": "display_data",
          "data": {
            "text/html": [
              "<style>\n",
              ".list-inline {list-style: none; margin:0; padding: 0}\n",
              ".list-inline>li {display: inline-block}\n",
              ".list-inline>li:not(:last-child)::after {content: \"\\00b7\"; padding: 0 .5ex}\n",
              "</style>\n",
              "<ol class=list-inline><li>2</li><li>1</li><li>3.5</li></ol>\n"
            ],
            "text/markdown": "1. 2\n2. 1\n3. 3.5\n\n\n",
            "text/latex": "\\begin{enumerate*}\n\\item 2\n\\item 1\n\\item 3.5\n\\end{enumerate*}\n",
            "text/plain": [
              "[1] 2.0 1.0 3.5"
            ]
          },
          "metadata": {}
        }
      ]
    },
    {
      "cell_type": "code",
      "source": [
        "c(4.5, 'David', 3.5)"
      ],
      "metadata": {
        "colab": {
          "base_uri": "https://localhost:8080/",
          "height": 34
        },
        "id": "d46C4Qy424_I",
        "outputId": "1cc6bf36-5852-44bd-9a6a-baa3a434dee4"
      },
      "execution_count": null,
      "outputs": [
        {
          "output_type": "display_data",
          "data": {
            "text/html": [
              "<style>\n",
              ".list-inline {list-style: none; margin:0; padding: 0}\n",
              ".list-inline>li {display: inline-block}\n",
              ".list-inline>li:not(:last-child)::after {content: \"\\00b7\"; padding: 0 .5ex}\n",
              "</style>\n",
              "<ol class=list-inline><li>'4.5'</li><li>'David'</li><li>'3.5'</li></ol>\n"
            ],
            "text/markdown": "1. '4.5'\n2. 'David'\n3. '3.5'\n\n\n",
            "text/latex": "\\begin{enumerate*}\n\\item '4.5'\n\\item 'David'\n\\item '3.5'\n\\end{enumerate*}\n",
            "text/plain": [
              "[1] \"4.5\"   \"David\" \"3.5\"  "
            ]
          },
          "metadata": {}
        }
      ]
    },
    {
      "cell_type": "code",
      "source": [
        "x<- c(1, 2, 3)"
      ],
      "metadata": {
        "id": "RPPo7Uf328go"
      },
      "execution_count": null,
      "outputs": []
    },
    {
      "cell_type": "code",
      "source": [
        "class(x)"
      ],
      "metadata": {
        "colab": {
          "base_uri": "https://localhost:8080/",
          "height": 34
        },
        "id": "To3_Cpjg3AD3",
        "outputId": "fa207c63-d80b-4f54-fc8a-72de0043ee0b"
      },
      "execution_count": null,
      "outputs": [
        {
          "output_type": "display_data",
          "data": {
            "text/html": [
              "'numeric'"
            ],
            "text/markdown": "'numeric'",
            "text/latex": "'numeric'",
            "text/plain": [
              "[1] \"numeric\""
            ]
          },
          "metadata": {}
        }
      ]
    },
    {
      "cell_type": "code",
      "source": [
        "rep(1997, 10)"
      ],
      "metadata": {
        "colab": {
          "base_uri": "https://localhost:8080/",
          "height": 34
        },
        "id": "iLeDymfM3HTQ",
        "outputId": "be8ab6f8-184d-43c6-858d-0850d8d20bfc"
      },
      "execution_count": null,
      "outputs": [
        {
          "output_type": "display_data",
          "data": {
            "text/html": [
              "<style>\n",
              ".list-inline {list-style: none; margin:0; padding: 0}\n",
              ".list-inline>li {display: inline-block}\n",
              ".list-inline>li:not(:last-child)::after {content: \"\\00b7\"; padding: 0 .5ex}\n",
              "</style>\n",
              "<ol class=list-inline><li>1997</li><li>1997</li><li>1997</li><li>1997</li><li>1997</li><li>1997</li><li>1997</li><li>1997</li><li>1997</li><li>1997</li></ol>\n"
            ],
            "text/markdown": "1. 1997\n2. 1997\n3. 1997\n4. 1997\n5. 1997\n6. 1997\n7. 1997\n8. 1997\n9. 1997\n10. 1997\n\n\n",
            "text/latex": "\\begin{enumerate*}\n\\item 1997\n\\item 1997\n\\item 1997\n\\item 1997\n\\item 1997\n\\item 1997\n\\item 1997\n\\item 1997\n\\item 1997\n\\item 1997\n\\end{enumerate*}\n",
            "text/plain": [
              " [1] 1997 1997 1997 1997 1997 1997 1997 1997 1997 1997"
            ]
          },
          "metadata": {}
        }
      ]
    },
    {
      "cell_type": "code",
      "source": [
        "seq(5, 60, by = 5)"
      ],
      "metadata": {
        "colab": {
          "base_uri": "https://localhost:8080/",
          "height": 34
        },
        "id": "HWO2gybc39dg",
        "outputId": "8a2ea054-a9d5-4e54-d938-3bb7e499bb45"
      },
      "execution_count": null,
      "outputs": [
        {
          "output_type": "display_data",
          "data": {
            "text/html": [
              "<style>\n",
              ".list-inline {list-style: none; margin:0; padding: 0}\n",
              ".list-inline>li {display: inline-block}\n",
              ".list-inline>li:not(:last-child)::after {content: \"\\00b7\"; padding: 0 .5ex}\n",
              "</style>\n",
              "<ol class=list-inline><li>5</li><li>10</li><li>15</li><li>20</li><li>25</li><li>30</li><li>35</li><li>40</li><li>45</li><li>50</li><li>55</li><li>60</li></ol>\n"
            ],
            "text/markdown": "1. 5\n2. 10\n3. 15\n4. 20\n5. 25\n6. 30\n7. 35\n8. 40\n9. 45\n10. 50\n11. 55\n12. 60\n\n\n",
            "text/latex": "\\begin{enumerate*}\n\\item 5\n\\item 10\n\\item 15\n\\item 20\n\\item 25\n\\item 30\n\\item 35\n\\item 40\n\\item 45\n\\item 50\n\\item 55\n\\item 60\n\\end{enumerate*}\n",
            "text/plain": [
              " [1]  5 10 15 20 25 30 35 40 45 50 55 60"
            ]
          },
          "metadata": {}
        }
      ]
    },
    {
      "cell_type": "code",
      "source": [
        "x = 1: 10"
      ],
      "metadata": {
        "id": "PHU7WmdK5AT5"
      },
      "execution_count": 9,
      "outputs": []
    },
    {
      "cell_type": "code",
      "source": [
        "x + pi"
      ],
      "metadata": {
        "colab": {
          "base_uri": "https://localhost:8080/",
          "height": 52
        },
        "id": "YDzXfTZHso2j",
        "outputId": "b7a18bee-f47a-4b3a-de59-7805b1d82920"
      },
      "execution_count": 2,
      "outputs": [
        {
          "output_type": "display_data",
          "data": {
            "text/html": [
              "<style>\n",
              ".list-inline {list-style: none; margin:0; padding: 0}\n",
              ".list-inline>li {display: inline-block}\n",
              ".list-inline>li:not(:last-child)::after {content: \"\\00b7\"; padding: 0 .5ex}\n",
              "</style>\n",
              "<ol class=list-inline><li>4.14159265358979</li><li>5.14159265358979</li><li>6.14159265358979</li><li>7.14159265358979</li><li>8.14159265358979</li><li>9.14159265358979</li><li>10.1415926535898</li><li>11.1415926535898</li><li>12.1415926535898</li><li>13.1415926535898</li></ol>\n"
            ],
            "text/markdown": "1. 4.14159265358979\n2. 5.14159265358979\n3. 6.14159265358979\n4. 7.14159265358979\n5. 8.14159265358979\n6. 9.14159265358979\n7. 10.1415926535898\n8. 11.1415926535898\n9. 12.1415926535898\n10. 13.1415926535898\n\n\n",
            "text/latex": "\\begin{enumerate*}\n\\item 4.14159265358979\n\\item 5.14159265358979\n\\item 6.14159265358979\n\\item 7.14159265358979\n\\item 8.14159265358979\n\\item 9.14159265358979\n\\item 10.1415926535898\n\\item 11.1415926535898\n\\item 12.1415926535898\n\\item 13.1415926535898\n\\end{enumerate*}\n",
            "text/plain": [
              " [1]  4.141593  5.141593  6.141593  7.141593  8.141593  9.141593 10.141593\n",
              " [8] 11.141593 12.141593 13.141593"
            ]
          },
          "metadata": {}
        }
      ]
    },
    {
      "cell_type": "code",
      "source": [
        "pi * x"
      ],
      "metadata": {
        "colab": {
          "base_uri": "https://localhost:8080/",
          "height": 52
        },
        "id": "uoxjqesWsq3Z",
        "outputId": "81428761-0268-48ab-e919-600cbe1d0556"
      },
      "execution_count": 3,
      "outputs": [
        {
          "output_type": "display_data",
          "data": {
            "text/html": [
              "<style>\n",
              ".list-inline {list-style: none; margin:0; padding: 0}\n",
              ".list-inline>li {display: inline-block}\n",
              ".list-inline>li:not(:last-child)::after {content: \"\\00b7\"; padding: 0 .5ex}\n",
              "</style>\n",
              "<ol class=list-inline><li>3.14159265358979</li><li>6.28318530717959</li><li>9.42477796076938</li><li>12.5663706143592</li><li>15.707963267949</li><li>18.8495559215388</li><li>21.9911485751286</li><li>25.1327412287183</li><li>28.2743338823081</li><li>31.4159265358979</li></ol>\n"
            ],
            "text/markdown": "1. 3.14159265358979\n2. 6.28318530717959\n3. 9.42477796076938\n4. 12.5663706143592\n5. 15.707963267949\n6. 18.8495559215388\n7. 21.9911485751286\n8. 25.1327412287183\n9. 28.2743338823081\n10. 31.4159265358979\n\n\n",
            "text/latex": "\\begin{enumerate*}\n\\item 3.14159265358979\n\\item 6.28318530717959\n\\item 9.42477796076938\n\\item 12.5663706143592\n\\item 15.707963267949\n\\item 18.8495559215388\n\\item 21.9911485751286\n\\item 25.1327412287183\n\\item 28.2743338823081\n\\item 31.4159265358979\n\\end{enumerate*}\n",
            "text/plain": [
              " [1]  3.141593  6.283185  9.424778 12.566371 15.707963 18.849556 21.991149\n",
              " [8] 25.132741 28.274334 31.415927"
            ]
          },
          "metadata": {}
        }
      ]
    },
    {
      "cell_type": "code",
      "source": [
        "sqrt(x)"
      ],
      "metadata": {
        "colab": {
          "base_uri": "https://localhost:8080/",
          "height": 34
        },
        "id": "wMyQ37dkstPJ",
        "outputId": "ff62e46e-cfa2-40c5-91a2-a4f452779f00"
      },
      "execution_count": 4,
      "outputs": [
        {
          "output_type": "display_data",
          "data": {
            "text/html": [
              "<style>\n",
              ".list-inline {list-style: none; margin:0; padding: 0}\n",
              ".list-inline>li {display: inline-block}\n",
              ".list-inline>li:not(:last-child)::after {content: \"\\00b7\"; padding: 0 .5ex}\n",
              "</style>\n",
              "<ol class=list-inline><li>1</li><li>1.4142135623731</li><li>1.73205080756888</li><li>2</li><li>2.23606797749979</li><li>2.44948974278318</li><li>2.64575131106459</li><li>2.82842712474619</li><li>3</li><li>3.16227766016838</li></ol>\n"
            ],
            "text/markdown": "1. 1\n2. 1.4142135623731\n3. 1.73205080756888\n4. 2\n5. 2.23606797749979\n6. 2.44948974278318\n7. 2.64575131106459\n8. 2.82842712474619\n9. 3\n10. 3.16227766016838\n\n\n",
            "text/latex": "\\begin{enumerate*}\n\\item 1\n\\item 1.4142135623731\n\\item 1.73205080756888\n\\item 2\n\\item 2.23606797749979\n\\item 2.44948974278318\n\\item 2.64575131106459\n\\item 2.82842712474619\n\\item 3\n\\item 3.16227766016838\n\\end{enumerate*}\n",
            "text/plain": [
              " [1] 1.000000 1.414214 1.732051 2.000000 2.236068 2.449490 2.645751 2.828427\n",
              " [9] 3.000000 3.162278"
            ]
          },
          "metadata": {}
        }
      ]
    },
    {
      "cell_type": "code",
      "source": [
        "2^x"
      ],
      "metadata": {
        "colab": {
          "base_uri": "https://localhost:8080/",
          "height": 34
        },
        "id": "EjKIeESasv6Y",
        "outputId": "b921db2f-5fa7-40a0-dbcb-0613706e499c"
      },
      "execution_count": 5,
      "outputs": [
        {
          "output_type": "display_data",
          "data": {
            "text/html": [
              "<style>\n",
              ".list-inline {list-style: none; margin:0; padding: 0}\n",
              ".list-inline>li {display: inline-block}\n",
              ".list-inline>li:not(:last-child)::after {content: \"\\00b7\"; padding: 0 .5ex}\n",
              "</style>\n",
              "<ol class=list-inline><li>2</li><li>4</li><li>8</li><li>16</li><li>32</li><li>64</li><li>128</li><li>256</li><li>512</li><li>1024</li></ol>\n"
            ],
            "text/markdown": "1. 2\n2. 4\n3. 8\n4. 16\n5. 32\n6. 64\n7. 128\n8. 256\n9. 512\n10. 1024\n\n\n",
            "text/latex": "\\begin{enumerate*}\n\\item 2\n\\item 4\n\\item 8\n\\item 16\n\\item 32\n\\item 64\n\\item 128\n\\item 256\n\\item 512\n\\item 1024\n\\end{enumerate*}\n",
            "text/plain": [
              " [1]    2    4    8   16   32   64  128  256  512 1024"
            ]
          },
          "metadata": {}
        }
      ]
    },
    {
      "cell_type": "code",
      "source": [
        "x ^ 2"
      ],
      "metadata": {
        "colab": {
          "base_uri": "https://localhost:8080/",
          "height": 34
        },
        "id": "jybfZOXEs4JJ",
        "outputId": "97e8dacd-6bb4-4a1a-f0d5-852e73cffd7a"
      },
      "execution_count": 6,
      "outputs": [
        {
          "output_type": "display_data",
          "data": {
            "text/html": [
              "<style>\n",
              ".list-inline {list-style: none; margin:0; padding: 0}\n",
              ".list-inline>li {display: inline-block}\n",
              ".list-inline>li:not(:last-child)::after {content: \"\\00b7\"; padding: 0 .5ex}\n",
              "</style>\n",
              "<ol class=list-inline><li>1</li><li>4</li><li>9</li><li>16</li><li>25</li><li>36</li><li>49</li><li>64</li><li>81</li><li>100</li></ol>\n"
            ],
            "text/markdown": "1. 1\n2. 4\n3. 9\n4. 16\n5. 25\n6. 36\n7. 49\n8. 64\n9. 81\n10. 100\n\n\n",
            "text/latex": "\\begin{enumerate*}\n\\item 1\n\\item 4\n\\item 9\n\\item 16\n\\item 25\n\\item 36\n\\item 49\n\\item 64\n\\item 81\n\\item 100\n\\end{enumerate*}\n",
            "text/plain": [
              " [1]   1   4   9  16  25  36  49  64  81 100"
            ]
          },
          "metadata": {}
        }
      ]
    },
    {
      "cell_type": "code",
      "source": [
        "sapply(x, FUN = function(elemento){sqrt(elemento)})"
      ],
      "metadata": {
        "colab": {
          "base_uri": "https://localhost:8080/",
          "height": 34
        },
        "id": "h9zw3ERms5dB",
        "outputId": "f461537d-f7b4-4af4-d771-a53444675978"
      },
      "execution_count": 10,
      "outputs": [
        {
          "output_type": "display_data",
          "data": {
            "text/html": [
              "<style>\n",
              ".list-inline {list-style: none; margin:0; padding: 0}\n",
              ".list-inline>li {display: inline-block}\n",
              ".list-inline>li:not(:last-child)::after {content: \"\\00b7\"; padding: 0 .5ex}\n",
              "</style>\n",
              "<ol class=list-inline><li>1</li><li>1.4142135623731</li><li>1.73205080756888</li><li>2</li><li>2.23606797749979</li><li>2.44948974278318</li><li>2.64575131106459</li><li>2.82842712474619</li><li>3</li><li>3.16227766016838</li></ol>\n"
            ],
            "text/markdown": "1. 1\n2. 1.4142135623731\n3. 1.73205080756888\n4. 2\n5. 2.23606797749979\n6. 2.44948974278318\n7. 2.64575131106459\n8. 2.82842712474619\n9. 3\n10. 3.16227766016838\n\n\n",
            "text/latex": "\\begin{enumerate*}\n\\item 1\n\\item 1.4142135623731\n\\item 1.73205080756888\n\\item 2\n\\item 2.23606797749979\n\\item 2.44948974278318\n\\item 2.64575131106459\n\\item 2.82842712474619\n\\item 3\n\\item 3.16227766016838\n\\end{enumerate*}\n",
            "text/plain": [
              " [1] 1.000000 1.414214 1.732051 2.000000 2.236068 2.449490 2.645751 2.828427\n",
              " [9] 3.000000 3.162278"
            ]
          },
          "metadata": {}
        }
      ]
    },
    {
      "cell_type": "code",
      "source": [
        "cd = function(x){summary(lm((1:4) ~ c(1:3,x)))$r.squared}"
      ],
      "metadata": {
        "id": "4b5iKRT1tHTo"
      },
      "execution_count": 13,
      "outputs": []
    },
    {
      "cell_type": "code",
      "source": [
        "cd(6)"
      ],
      "metadata": {
        "colab": {
          "base_uri": "https://localhost:8080/",
          "height": 34
        },
        "id": "jF3P8__et2Jv",
        "outputId": "a0892d66-74d3-4dce-f895-2d3c3202b183"
      },
      "execution_count": 15,
      "outputs": [
        {
          "output_type": "display_data",
          "data": {
            "text/html": [
              "0.914285714285714"
            ],
            "text/markdown": "0.914285714285714",
            "text/latex": "0.914285714285714",
            "text/plain": [
              "[1] 0.9142857"
            ]
          },
          "metadata": {}
        }
      ]
    },
    {
      "cell_type": "code",
      "source": [
        "sapply(x, cd)"
      ],
      "metadata": {
        "colab": {
          "base_uri": "https://localhost:8080/",
          "height": 69
        },
        "id": "ieyAL8Lrt3jv",
        "outputId": "f10192f6-becd-4c74-fc48-ca32b445ac31"
      },
      "execution_count": 16,
      "outputs": [
        {
          "output_type": "stream",
          "name": "stderr",
          "text": [
            "Warning message in summary.lm(lm((1:4) ~ c(1:3, x))):\n",
            "“essentially perfect fit: summary may be unreliable”\n"
          ]
        },
        {
          "output_type": "display_data",
          "data": {
            "text/html": [
              "<style>\n",
              ".list-inline {list-style: none; margin:0; padding: 0}\n",
              ".list-inline>li {display: inline-block}\n",
              ".list-inline>li:not(:last-child)::after {content: \"\\00b7\"; padding: 0 .5ex}\n",
              "</style>\n",
              "<ol class=list-inline><li>0.0181818181818182</li><li>0.4</li><li>0.890909090909091</li><li>1</li><li>0.965714285714286</li><li>0.914285714285714</li><li>0.869879518072289</li><li>0.83448275862069</li><li>0.806451612903226</li><li>0.784</li></ol>\n"
            ],
            "text/markdown": "1. 0.0181818181818182\n2. 0.4\n3. 0.890909090909091\n4. 1\n5. 0.965714285714286\n6. 0.914285714285714\n7. 0.869879518072289\n8. 0.83448275862069\n9. 0.806451612903226\n10. 0.784\n\n\n",
            "text/latex": "\\begin{enumerate*}\n\\item 0.0181818181818182\n\\item 0.4\n\\item 0.890909090909091\n\\item 1\n\\item 0.965714285714286\n\\item 0.914285714285714\n\\item 0.869879518072289\n\\item 0.83448275862069\n\\item 0.806451612903226\n\\item 0.784\n\\end{enumerate*}\n",
            "text/plain": [
              " [1] 0.01818182 0.40000000 0.89090909 1.00000000 0.96571429 0.91428571\n",
              " [7] 0.86987952 0.83448276 0.80645161 0.78400000"
            ]
          },
          "metadata": {}
        }
      ]
    },
    {
      "cell_type": "code",
      "source": [
        "1:10 + 1:10"
      ],
      "metadata": {
        "colab": {
          "base_uri": "https://localhost:8080/",
          "height": 34
        },
        "id": "1MfEFyz3uL-I",
        "outputId": "842e21ea-e1f5-4cdd-e1cb-291c9dbb6642"
      },
      "execution_count": 17,
      "outputs": [
        {
          "output_type": "display_data",
          "data": {
            "text/html": [
              "<style>\n",
              ".list-inline {list-style: none; margin:0; padding: 0}\n",
              ".list-inline>li {display: inline-block}\n",
              ".list-inline>li:not(:last-child)::after {content: \"\\00b7\"; padding: 0 .5ex}\n",
              "</style>\n",
              "<ol class=list-inline><li>2</li><li>4</li><li>6</li><li>8</li><li>10</li><li>12</li><li>14</li><li>16</li><li>18</li><li>20</li></ol>\n"
            ],
            "text/markdown": "1. 2\n2. 4\n3. 6\n4. 8\n5. 10\n6. 12\n7. 14\n8. 16\n9. 18\n10. 20\n\n\n",
            "text/latex": "\\begin{enumerate*}\n\\item 2\n\\item 4\n\\item 6\n\\item 8\n\\item 10\n\\item 12\n\\item 14\n\\item 16\n\\item 18\n\\item 20\n\\end{enumerate*}\n",
            "text/plain": [
              " [1]  2  4  6  8 10 12 14 16 18 20"
            ]
          },
          "metadata": {}
        }
      ]
    },
    {
      "cell_type": "code",
      "source": [
        "(1:10) * (1:10)"
      ],
      "metadata": {
        "colab": {
          "base_uri": "https://localhost:8080/",
          "height": 34
        },
        "id": "-DS3ev8GuX6g",
        "outputId": "22da1fd1-3c68-444b-f593-fb8daa8ee8b7"
      },
      "execution_count": 18,
      "outputs": [
        {
          "output_type": "display_data",
          "data": {
            "text/html": [
              "<style>\n",
              ".list-inline {list-style: none; margin:0; padding: 0}\n",
              ".list-inline>li {display: inline-block}\n",
              ".list-inline>li:not(:last-child)::after {content: \"\\00b7\"; padding: 0 .5ex}\n",
              "</style>\n",
              "<ol class=list-inline><li>1</li><li>4</li><li>9</li><li>16</li><li>25</li><li>36</li><li>49</li><li>64</li><li>81</li><li>100</li></ol>\n"
            ],
            "text/markdown": "1. 1\n2. 4\n3. 9\n4. 16\n5. 25\n6. 36\n7. 49\n8. 64\n9. 81\n10. 100\n\n\n",
            "text/latex": "\\begin{enumerate*}\n\\item 1\n\\item 4\n\\item 9\n\\item 16\n\\item 25\n\\item 36\n\\item 49\n\\item 64\n\\item 81\n\\item 100\n\\end{enumerate*}\n",
            "text/plain": [
              " [1]   1   4   9  16  25  36  49  64  81 100"
            ]
          },
          "metadata": {}
        }
      ]
    },
    {
      "cell_type": "code",
      "source": [
        "(1:10) ^ (1:10)"
      ],
      "metadata": {
        "colab": {
          "base_uri": "https://localhost:8080/",
          "height": 34
        },
        "id": "_Qw5cLbhuZuA",
        "outputId": "3d1fc3d9-62f2-43a9-99b4-226eb4accb04"
      },
      "execution_count": 19,
      "outputs": [
        {
          "output_type": "display_data",
          "data": {
            "text/html": [
              "<style>\n",
              ".list-inline {list-style: none; margin:0; padding: 0}\n",
              ".list-inline>li {display: inline-block}\n",
              ".list-inline>li:not(:last-child)::after {content: \"\\00b7\"; padding: 0 .5ex}\n",
              "</style>\n",
              "<ol class=list-inline><li>1</li><li>4</li><li>27</li><li>256</li><li>3125</li><li>46656</li><li>823543</li><li>16777216</li><li>387420489</li><li>1e+10</li></ol>\n"
            ],
            "text/markdown": "1. 1\n2. 4\n3. 27\n4. 256\n5. 3125\n6. 46656\n7. 823543\n8. 16777216\n9. 387420489\n10. 1e+10\n\n\n",
            "text/latex": "\\begin{enumerate*}\n\\item 1\n\\item 4\n\\item 27\n\\item 256\n\\item 3125\n\\item 46656\n\\item 823543\n\\item 16777216\n\\item 387420489\n\\item 1e+10\n\\end{enumerate*}\n",
            "text/plain": [
              " [1]           1           4          27         256        3125       46656\n",
              " [7]      823543    16777216   387420489 10000000000"
            ]
          },
          "metadata": {}
        }
      ]
    },
    {
      "cell_type": "code",
      "source": [
        "n = 1:100\n",
        "x = 2*3^(n/2)-15\n",
        "x"
      ],
      "metadata": {
        "colab": {
          "base_uri": "https://localhost:8080/",
          "height": 225
        },
        "id": "ZDQtmujgugtY",
        "outputId": "fea6d7d2-a6d7-4518-f402-b56460ef851a"
      },
      "execution_count": 20,
      "outputs": [
        {
          "output_type": "display_data",
          "data": {
            "text/html": [
              "<style>\n",
              ".list-inline {list-style: none; margin:0; padding: 0}\n",
              ".list-inline>li {display: inline-block}\n",
              ".list-inline>li:not(:last-child)::after {content: \"\\00b7\"; padding: 0 .5ex}\n",
              "</style>\n",
              "<ol class=list-inline><li>-11.5358983848622</li><li>-9</li><li>-4.60769515458674</li><li>3</li><li>16.1769145362398</li><li>39</li><li>78.5307436087194</li><li>147</li><li>265.592230826158</li><li>471</li><li>826.776692478474</li><li>1443</li><li>2510.33007743542</li><li>4359</li><li>7560.99023230627</li><li>13107</li><li>22712.9706969188</li><li>39351</li><li>68168.9120907564</li><li>118083</li><li>204536.736272269</li><li>354279</li><li>613640.208816808</li><li>1062867</li><li>1840950.62645042</li><li>3188631</li><li>5522881.87935127</li><li>9565923</li><li>16568675.6380538</li><li>28697799</li><li>49706056.9141614</li><li>86093427</li><li>149118200.742484</li><li>258280311</li><li>447354632.227453</li><li>774840963</li><li>1342063926.68236</li><li>2324522919</li><li>4026191810.04708</li><li>6973568787</li><li>12078575460.1412</li><li>20920706391</li><li>36235726410.4237</li><li>62762119203</li><li>108707179261.271</li><li>188286357639</li><li>326121537813.813</li><li>564859072947</li><li>978364613471.439</li><li>1694577218871</li><li>2935093840444.32</li><li>5083731656643</li><li>8805281521362.96</li><li>15251194969959</li><li>26415844564118.9</li><li>45753584909907</li><li>79247533692386.6</li><li>137260754729751</li><li>237742601077190</li><li>411782264189283</li><li>713227803231599</li><li>1235346792567879</li><li>2139683409694828</li><li>3706040377703667</li><li>6419050229084514</li><li>11118121133111032</li><li>19257150687253572</li><li>33354363399333120</li><li>57771452061760752</li><li>100063090197999392</li><li>173314356185282304</li><li>300189270593998272</li><li>519943068555846912</li><li>900567811781994752</li><li>1559829205667540736</li><li>2701703435345984000</li><li>4679487617002621952</li><li>8105110306037952512</li><li>14038462851007866880</li><li>24315330918113857536</li><li>42115388553023594496</li><li>72945992754341576704</li><li>1.26346165659071e+20</li><li>2.18837978263025e+20</li><li>3.79038496977212e+20</li><li>6.56513934789074e+20</li><li>1.13711549093164e+21</li><li>1.96954180436722e+21</li><li>3.41134647279491e+21</li><li>5.90862541310167e+21</li><li>1.02340394183847e+22</li><li>1.7725876239305e+22</li><li>3.07021182551542e+22</li><li>5.3177628717915e+22</li><li>9.21063547654626e+22</li><li>1.59532886153745e+23</li><li>2.76319064296388e+23</li><li>4.78598658461235e+23</li><li>8.28957192889164e+23</li><li>1.43579597538371e+24</li></ol>\n"
            ],
            "text/markdown": "1. -11.5358983848622\n2. -9\n3. -4.60769515458674\n4. 3\n5. 16.1769145362398\n6. 39\n7. 78.5307436087194\n8. 147\n9. 265.592230826158\n10. 471\n11. 826.776692478474\n12. 1443\n13. 2510.33007743542\n14. 4359\n15. 7560.99023230627\n16. 13107\n17. 22712.9706969188\n18. 39351\n19. 68168.9120907564\n20. 118083\n21. 204536.736272269\n22. 354279\n23. 613640.208816808\n24. 1062867\n25. 1840950.62645042\n26. 3188631\n27. 5522881.87935127\n28. 9565923\n29. 16568675.6380538\n30. 28697799\n31. 49706056.9141614\n32. 86093427\n33. 149118200.742484\n34. 258280311\n35. 447354632.227453\n36. 774840963\n37. 1342063926.68236\n38. 2324522919\n39. 4026191810.04708\n40. 6973568787\n41. 12078575460.1412\n42. 20920706391\n43. 36235726410.4237\n44. 62762119203\n45. 108707179261.271\n46. 188286357639\n47. 326121537813.813\n48. 564859072947\n49. 978364613471.439\n50. 1694577218871\n51. 2935093840444.32\n52. 5083731656643\n53. 8805281521362.96\n54. 15251194969959\n55. 26415844564118.9\n56. 45753584909907\n57. 79247533692386.6\n58. 137260754729751\n59. 237742601077190\n60. 411782264189283\n61. 713227803231599\n62. 1235346792567879\n63. 2139683409694828\n64. 3706040377703667\n65. 6419050229084514\n66. 11118121133111032\n67. 19257150687253572\n68. 33354363399333120\n69. 57771452061760752\n70. 100063090197999392\n71. 173314356185282304\n72. 300189270593998272\n73. 519943068555846912\n74. 900567811781994752\n75. 1559829205667540736\n76. 2701703435345984000\n77. 4679487617002621952\n78. 8105110306037952512\n79. 14038462851007866880\n80. 24315330918113857536\n81. 42115388553023594496\n82. 72945992754341576704\n83. 1.26346165659071e+20\n84. 2.18837978263025e+20\n85. 3.79038496977212e+20\n86. 6.56513934789074e+20\n87. 1.13711549093164e+21\n88. 1.96954180436722e+21\n89. 3.41134647279491e+21\n90. 5.90862541310167e+21\n91. 1.02340394183847e+22\n92. 1.7725876239305e+22\n93. 3.07021182551542e+22\n94. 5.3177628717915e+22\n95. 9.21063547654626e+22\n96. 1.59532886153745e+23\n97. 2.76319064296388e+23\n98. 4.78598658461235e+23\n99. 8.28957192889164e+23\n100. 1.43579597538371e+24\n\n\n",
            "text/latex": "\\begin{enumerate*}\n\\item -11.5358983848622\n\\item -9\n\\item -4.60769515458674\n\\item 3\n\\item 16.1769145362398\n\\item 39\n\\item 78.5307436087194\n\\item 147\n\\item 265.592230826158\n\\item 471\n\\item 826.776692478474\n\\item 1443\n\\item 2510.33007743542\n\\item 4359\n\\item 7560.99023230627\n\\item 13107\n\\item 22712.9706969188\n\\item 39351\n\\item 68168.9120907564\n\\item 118083\n\\item 204536.736272269\n\\item 354279\n\\item 613640.208816808\n\\item 1062867\n\\item 1840950.62645042\n\\item 3188631\n\\item 5522881.87935127\n\\item 9565923\n\\item 16568675.6380538\n\\item 28697799\n\\item 49706056.9141614\n\\item 86093427\n\\item 149118200.742484\n\\item 258280311\n\\item 447354632.227453\n\\item 774840963\n\\item 1342063926.68236\n\\item 2324522919\n\\item 4026191810.04708\n\\item 6973568787\n\\item 12078575460.1412\n\\item 20920706391\n\\item 36235726410.4237\n\\item 62762119203\n\\item 108707179261.271\n\\item 188286357639\n\\item 326121537813.813\n\\item 564859072947\n\\item 978364613471.439\n\\item 1694577218871\n\\item 2935093840444.32\n\\item 5083731656643\n\\item 8805281521362.96\n\\item 15251194969959\n\\item 26415844564118.9\n\\item 45753584909907\n\\item 79247533692386.6\n\\item 137260754729751\n\\item 237742601077190\n\\item 411782264189283\n\\item 713227803231599\n\\item 1235346792567879\n\\item 2139683409694828\n\\item 3706040377703667\n\\item 6419050229084514\n\\item 11118121133111032\n\\item 19257150687253572\n\\item 33354363399333120\n\\item 57771452061760752\n\\item 100063090197999392\n\\item 173314356185282304\n\\item 300189270593998272\n\\item 519943068555846912\n\\item 900567811781994752\n\\item 1559829205667540736\n\\item 2701703435345984000\n\\item 4679487617002621952\n\\item 8105110306037952512\n\\item 14038462851007866880\n\\item 24315330918113857536\n\\item 42115388553023594496\n\\item 72945992754341576704\n\\item 1.26346165659071e+20\n\\item 2.18837978263025e+20\n\\item 3.79038496977212e+20\n\\item 6.56513934789074e+20\n\\item 1.13711549093164e+21\n\\item 1.96954180436722e+21\n\\item 3.41134647279491e+21\n\\item 5.90862541310167e+21\n\\item 1.02340394183847e+22\n\\item 1.7725876239305e+22\n\\item 3.07021182551542e+22\n\\item 5.3177628717915e+22\n\\item 9.21063547654626e+22\n\\item 1.59532886153745e+23\n\\item 2.76319064296388e+23\n\\item 4.78598658461235e+23\n\\item 8.28957192889164e+23\n\\item 1.43579597538371e+24\n\\end{enumerate*}\n",
            "text/plain": [
              "  [1] -1.153590e+01 -9.000000e+00 -4.607695e+00  3.000000e+00  1.617691e+01\n",
              "  [6]  3.900000e+01  7.853074e+01  1.470000e+02  2.655922e+02  4.710000e+02\n",
              " [11]  8.267767e+02  1.443000e+03  2.510330e+03  4.359000e+03  7.560990e+03\n",
              " [16]  1.310700e+04  2.271297e+04  3.935100e+04  6.816891e+04  1.180830e+05\n",
              " [21]  2.045367e+05  3.542790e+05  6.136402e+05  1.062867e+06  1.840951e+06\n",
              " [26]  3.188631e+06  5.522882e+06  9.565923e+06  1.656868e+07  2.869780e+07\n",
              " [31]  4.970606e+07  8.609343e+07  1.491182e+08  2.582803e+08  4.473546e+08\n",
              " [36]  7.748410e+08  1.342064e+09  2.324523e+09  4.026192e+09  6.973569e+09\n",
              " [41]  1.207858e+10  2.092071e+10  3.623573e+10  6.276212e+10  1.087072e+11\n",
              " [46]  1.882864e+11  3.261215e+11  5.648591e+11  9.783646e+11  1.694577e+12\n",
              " [51]  2.935094e+12  5.083732e+12  8.805282e+12  1.525119e+13  2.641584e+13\n",
              " [56]  4.575358e+13  7.924753e+13  1.372608e+14  2.377426e+14  4.117823e+14\n",
              " [61]  7.132278e+14  1.235347e+15  2.139683e+15  3.706040e+15  6.419050e+15\n",
              " [66]  1.111812e+16  1.925715e+16  3.335436e+16  5.777145e+16  1.000631e+17\n",
              " [71]  1.733144e+17  3.001893e+17  5.199431e+17  9.005678e+17  1.559829e+18\n",
              " [76]  2.701703e+18  4.679488e+18  8.105110e+18  1.403846e+19  2.431533e+19\n",
              " [81]  4.211539e+19  7.294599e+19  1.263462e+20  2.188380e+20  3.790385e+20\n",
              " [86]  6.565139e+20  1.137115e+21  1.969542e+21  3.411346e+21  5.908625e+21\n",
              " [91]  1.023404e+22  1.772588e+22  3.070212e+22  5.317763e+22  9.210635e+22\n",
              " [96]  1.595329e+23  2.763191e+23  4.785987e+23  8.289572e+23  1.435796e+24"
            ]
          },
          "metadata": {}
        }
      ]
    },
    {
      "cell_type": "code",
      "source": [
        "y = n^2/(n^2+1)\n",
        "y"
      ],
      "metadata": {
        "colab": {
          "base_uri": "https://localhost:8080/",
          "height": 243
        },
        "id": "bKxW7CA_uv-x",
        "outputId": "5c4fe1ee-f275-41c0-ca56-9c1c090abbd4"
      },
      "execution_count": 22,
      "outputs": [
        {
          "output_type": "display_data",
          "data": {
            "text/html": [
              "<style>\n",
              ".list-inline {list-style: none; margin:0; padding: 0}\n",
              ".list-inline>li {display: inline-block}\n",
              ".list-inline>li:not(:last-child)::after {content: \"\\00b7\"; padding: 0 .5ex}\n",
              "</style>\n",
              "<ol class=list-inline><li>0.5</li><li>0.8</li><li>0.9</li><li>0.941176470588235</li><li>0.961538461538462</li><li>0.972972972972973</li><li>0.98</li><li>0.984615384615385</li><li>0.98780487804878</li><li>0.99009900990099</li><li>0.991803278688525</li><li>0.993103448275862</li><li>0.994117647058824</li><li>0.99492385786802</li><li>0.995575221238938</li><li>0.996108949416342</li><li>0.996551724137931</li><li>0.996923076923077</li><li>0.997237569060773</li><li>0.997506234413965</li><li>0.997737556561086</li><li>0.997938144329897</li><li>0.99811320754717</li><li>0.998266897746967</li><li>0.998402555910543</li><li>0.998522895125554</li><li>0.998630136986301</li><li>0.998726114649682</li><li>0.998812351543943</li><li>0.99889012208657</li><li>0.998960498960499</li><li>0.999024390243902</li><li>0.999082568807339</li><li>0.999135695764909</li><li>0.999184339314845</li><li>0.99922898997687</li><li>0.999270072992701</li><li>0.999307958477509</li><li>0.99934296977661</li><li>0.999375390381012</li><li>0.999405469678954</li><li>0.99943342776204</li><li>0.999459459459459</li><li>0.999483737738771</li><li>0.999506416584403</li><li>0.999527633443552</li><li>0.999547511312217</li><li>0.999566160520607</li><li>0.999583680266445</li><li>0.999600159936026</li><li>0.999615680245965</li><li>0.999630314232902</li><li>0.999644128113879</li><li>0.999657182036339</li><li>0.999669530733642</li><li>0.999681224099458</li><li>0.999692307692308</li><li>0.999702823179792</li><li>0.999712808730615</li><li>0.999722299361289</li><li>0.999731327243418</li><li>0.999739921976593</li><li>0.999748110831234</li><li>0.999755918965096</li><li>0.999763369616659</li><li>0.999770484278173</li><li>0.999777282850779</li><li>0.999783783783784</li><li>0.999790004199916</li><li>0.999795960008162</li><li>0.999801666005553</li><li>0.999807135969142</li><li>0.999812382739212</li><li>0.999817418294687</li><li>0.999822253821543</li><li>0.99982689977497</li><li>0.999831365935919</li><li>0.999835661462613</li><li>0.99983979493752</li><li>0.999843774410248</li><li>0.999847607436757</li><li>0.999851301115242</li><li>0.999854862119013</li><li>0.999858296726654</li><li>0.999861610849709</li><li>0.999864810058132</li><li>0.999867899603699</li><li>0.999870884441575</li><li>0.999873769250189</li><li>0.999876558449574</li><li>0.999879256218305</li><li>0.999881866509155</li><li>0.999884393063584</li><li>0.999886839425144</li><li>0.999889208951917</li><li>0.999891504828035</li><li>0.999893730074389</li><li>0.999895887558563</li><li>0.999897980004081</li><li>0.999900009999</li></ol>\n"
            ],
            "text/markdown": "1. 0.5\n2. 0.8\n3. 0.9\n4. 0.941176470588235\n5. 0.961538461538462\n6. 0.972972972972973\n7. 0.98\n8. 0.984615384615385\n9. 0.98780487804878\n10. 0.99009900990099\n11. 0.991803278688525\n12. 0.993103448275862\n13. 0.994117647058824\n14. 0.99492385786802\n15. 0.995575221238938\n16. 0.996108949416342\n17. 0.996551724137931\n18. 0.996923076923077\n19. 0.997237569060773\n20. 0.997506234413965\n21. 0.997737556561086\n22. 0.997938144329897\n23. 0.99811320754717\n24. 0.998266897746967\n25. 0.998402555910543\n26. 0.998522895125554\n27. 0.998630136986301\n28. 0.998726114649682\n29. 0.998812351543943\n30. 0.99889012208657\n31. 0.998960498960499\n32. 0.999024390243902\n33. 0.999082568807339\n34. 0.999135695764909\n35. 0.999184339314845\n36. 0.99922898997687\n37. 0.999270072992701\n38. 0.999307958477509\n39. 0.99934296977661\n40. 0.999375390381012\n41. 0.999405469678954\n42. 0.99943342776204\n43. 0.999459459459459\n44. 0.999483737738771\n45. 0.999506416584403\n46. 0.999527633443552\n47. 0.999547511312217\n48. 0.999566160520607\n49. 0.999583680266445\n50. 0.999600159936026\n51. 0.999615680245965\n52. 0.999630314232902\n53. 0.999644128113879\n54. 0.999657182036339\n55. 0.999669530733642\n56. 0.999681224099458\n57. 0.999692307692308\n58. 0.999702823179792\n59. 0.999712808730615\n60. 0.999722299361289\n61. 0.999731327243418\n62. 0.999739921976593\n63. 0.999748110831234\n64. 0.999755918965096\n65. 0.999763369616659\n66. 0.999770484278173\n67. 0.999777282850779\n68. 0.999783783783784\n69. 0.999790004199916\n70. 0.999795960008162\n71. 0.999801666005553\n72. 0.999807135969142\n73. 0.999812382739212\n74. 0.999817418294687\n75. 0.999822253821543\n76. 0.99982689977497\n77. 0.999831365935919\n78. 0.999835661462613\n79. 0.99983979493752\n80. 0.999843774410248\n81. 0.999847607436757\n82. 0.999851301115242\n83. 0.999854862119013\n84. 0.999858296726654\n85. 0.999861610849709\n86. 0.999864810058132\n87. 0.999867899603699\n88. 0.999870884441575\n89. 0.999873769250189\n90. 0.999876558449574\n91. 0.999879256218305\n92. 0.999881866509155\n93. 0.999884393063584\n94. 0.999886839425144\n95. 0.999889208951917\n96. 0.999891504828035\n97. 0.999893730074389\n98. 0.999895887558563\n99. 0.999897980004081\n100. 0.999900009999\n\n\n",
            "text/latex": "\\begin{enumerate*}\n\\item 0.5\n\\item 0.8\n\\item 0.9\n\\item 0.941176470588235\n\\item 0.961538461538462\n\\item 0.972972972972973\n\\item 0.98\n\\item 0.984615384615385\n\\item 0.98780487804878\n\\item 0.99009900990099\n\\item 0.991803278688525\n\\item 0.993103448275862\n\\item 0.994117647058824\n\\item 0.99492385786802\n\\item 0.995575221238938\n\\item 0.996108949416342\n\\item 0.996551724137931\n\\item 0.996923076923077\n\\item 0.997237569060773\n\\item 0.997506234413965\n\\item 0.997737556561086\n\\item 0.997938144329897\n\\item 0.99811320754717\n\\item 0.998266897746967\n\\item 0.998402555910543\n\\item 0.998522895125554\n\\item 0.998630136986301\n\\item 0.998726114649682\n\\item 0.998812351543943\n\\item 0.99889012208657\n\\item 0.998960498960499\n\\item 0.999024390243902\n\\item 0.999082568807339\n\\item 0.999135695764909\n\\item 0.999184339314845\n\\item 0.99922898997687\n\\item 0.999270072992701\n\\item 0.999307958477509\n\\item 0.99934296977661\n\\item 0.999375390381012\n\\item 0.999405469678954\n\\item 0.99943342776204\n\\item 0.999459459459459\n\\item 0.999483737738771\n\\item 0.999506416584403\n\\item 0.999527633443552\n\\item 0.999547511312217\n\\item 0.999566160520607\n\\item 0.999583680266445\n\\item 0.999600159936026\n\\item 0.999615680245965\n\\item 0.999630314232902\n\\item 0.999644128113879\n\\item 0.999657182036339\n\\item 0.999669530733642\n\\item 0.999681224099458\n\\item 0.999692307692308\n\\item 0.999702823179792\n\\item 0.999712808730615\n\\item 0.999722299361289\n\\item 0.999731327243418\n\\item 0.999739921976593\n\\item 0.999748110831234\n\\item 0.999755918965096\n\\item 0.999763369616659\n\\item 0.999770484278173\n\\item 0.999777282850779\n\\item 0.999783783783784\n\\item 0.999790004199916\n\\item 0.999795960008162\n\\item 0.999801666005553\n\\item 0.999807135969142\n\\item 0.999812382739212\n\\item 0.999817418294687\n\\item 0.999822253821543\n\\item 0.99982689977497\n\\item 0.999831365935919\n\\item 0.999835661462613\n\\item 0.99983979493752\n\\item 0.999843774410248\n\\item 0.999847607436757\n\\item 0.999851301115242\n\\item 0.999854862119013\n\\item 0.999858296726654\n\\item 0.999861610849709\n\\item 0.999864810058132\n\\item 0.999867899603699\n\\item 0.999870884441575\n\\item 0.999873769250189\n\\item 0.999876558449574\n\\item 0.999879256218305\n\\item 0.999881866509155\n\\item 0.999884393063584\n\\item 0.999886839425144\n\\item 0.999889208951917\n\\item 0.999891504828035\n\\item 0.999893730074389\n\\item 0.999895887558563\n\\item 0.999897980004081\n\\item 0.999900009999\n\\end{enumerate*}\n",
            "text/plain": [
              "  [1] 0.5000000 0.8000000 0.9000000 0.9411765 0.9615385 0.9729730 0.9800000\n",
              "  [8] 0.9846154 0.9878049 0.9900990 0.9918033 0.9931034 0.9941176 0.9949239\n",
              " [15] 0.9955752 0.9961089 0.9965517 0.9969231 0.9972376 0.9975062 0.9977376\n",
              " [22] 0.9979381 0.9981132 0.9982669 0.9984026 0.9985229 0.9986301 0.9987261\n",
              " [29] 0.9988124 0.9988901 0.9989605 0.9990244 0.9990826 0.9991357 0.9991843\n",
              " [36] 0.9992290 0.9992701 0.9993080 0.9993430 0.9993754 0.9994055 0.9994334\n",
              " [43] 0.9994595 0.9994837 0.9995064 0.9995276 0.9995475 0.9995662 0.9995837\n",
              " [50] 0.9996002 0.9996157 0.9996303 0.9996441 0.9996572 0.9996695 0.9996812\n",
              " [57] 0.9996923 0.9997028 0.9997128 0.9997223 0.9997313 0.9997399 0.9997481\n",
              " [64] 0.9997559 0.9997634 0.9997705 0.9997773 0.9997838 0.9997900 0.9997960\n",
              " [71] 0.9998017 0.9998071 0.9998124 0.9998174 0.9998223 0.9998269 0.9998314\n",
              " [78] 0.9998357 0.9998398 0.9998438 0.9998476 0.9998513 0.9998549 0.9998583\n",
              " [85] 0.9998616 0.9998648 0.9998679 0.9998709 0.9998738 0.9998766 0.9998793\n",
              " [92] 0.9998819 0.9998844 0.9998868 0.9998892 0.9998915 0.9998937 0.9998959\n",
              " [99] 0.9998980 0.9999000"
            ]
          },
          "metadata": {}
        }
      ]
    },
    {
      "cell_type": "code",
      "source": [
        "cuadrado = function(x){x^2}\n",
        "v = c(1:6)\n",
        "sapply(v, FUN = cuadrado)"
      ],
      "metadata": {
        "colab": {
          "base_uri": "https://localhost:8080/",
          "height": 34
        },
        "id": "lyO_PqSYu4RZ",
        "outputId": "df960da3-4f62-487d-84b3-11fea6785b19"
      },
      "execution_count": 28,
      "outputs": [
        {
          "output_type": "display_data",
          "data": {
            "text/html": [
              "<style>\n",
              ".list-inline {list-style: none; margin:0; padding: 0}\n",
              ".list-inline>li {display: inline-block}\n",
              ".list-inline>li:not(:last-child)::after {content: \"\\00b7\"; padding: 0 .5ex}\n",
              "</style>\n",
              "<ol class=list-inline><li>1</li><li>4</li><li>9</li><li>16</li><li>25</li><li>36</li></ol>\n"
            ],
            "text/markdown": "1. 1\n2. 4\n3. 9\n4. 16\n5. 25\n6. 36\n\n\n",
            "text/latex": "\\begin{enumerate*}\n\\item 1\n\\item 4\n\\item 9\n\\item 16\n\\item 25\n\\item 36\n\\end{enumerate*}\n",
            "text/plain": [
              "[1]  1  4  9 16 25 36"
            ]
          },
          "metadata": {}
        }
      ]
    },
    {
      "cell_type": "code",
      "source": [
        "mean(v)"
      ],
      "metadata": {
        "colab": {
          "base_uri": "https://localhost:8080/",
          "height": 34
        },
        "id": "XHVOLnQ2vUp4",
        "outputId": "e85be0fc-fd68-4fdb-e8ef-f438b8a13d4c"
      },
      "execution_count": 29,
      "outputs": [
        {
          "output_type": "display_data",
          "data": {
            "text/html": [
              "3.5"
            ],
            "text/markdown": "3.5",
            "text/latex": "3.5",
            "text/plain": [
              "[1] 3.5"
            ]
          },
          "metadata": {}
        }
      ]
    },
    {
      "cell_type": "code",
      "source": [
        "cumsum(v)"
      ],
      "metadata": {
        "colab": {
          "base_uri": "https://localhost:8080/",
          "height": 34
        },
        "id": "ZivbZa1JvMG5",
        "outputId": "96e058a9-ef3c-4ec6-ad2f-bf5e068f4bdb"
      },
      "execution_count": 30,
      "outputs": [
        {
          "output_type": "display_data",
          "data": {
            "text/html": [
              "<style>\n",
              ".list-inline {list-style: none; margin:0; padding: 0}\n",
              ".list-inline>li {display: inline-block}\n",
              ".list-inline>li:not(:last-child)::after {content: \"\\00b7\"; padding: 0 .5ex}\n",
              "</style>\n",
              "<ol class=list-inline><li>1</li><li>3</li><li>6</li><li>10</li><li>15</li><li>21</li></ol>\n"
            ],
            "text/markdown": "1. 1\n2. 3\n3. 6\n4. 10\n5. 15\n6. 21\n\n\n",
            "text/latex": "\\begin{enumerate*}\n\\item 1\n\\item 3\n\\item 6\n\\item 10\n\\item 15\n\\item 21\n\\end{enumerate*}\n",
            "text/plain": [
              "[1]  1  3  6 10 15 21"
            ]
          },
          "metadata": {}
        }
      ]
    },
    {
      "cell_type": "code",
      "source": [
        "v = c(1:7)"
      ],
      "metadata": {
        "id": "nUIaWaZivOUY"
      },
      "execution_count": 31,
      "outputs": []
    },
    {
      "cell_type": "code",
      "source": [
        "sort(v)"
      ],
      "metadata": {
        "colab": {
          "base_uri": "https://localhost:8080/",
          "height": 34
        },
        "id": "uVHNcHnBvQI3",
        "outputId": "dcc5bdc7-2ad1-4bd5-dd9d-5ff966687d55"
      },
      "execution_count": 32,
      "outputs": [
        {
          "output_type": "display_data",
          "data": {
            "text/html": [
              "<style>\n",
              ".list-inline {list-style: none; margin:0; padding: 0}\n",
              ".list-inline>li {display: inline-block}\n",
              ".list-inline>li:not(:last-child)::after {content: \"\\00b7\"; padding: 0 .5ex}\n",
              "</style>\n",
              "<ol class=list-inline><li>1</li><li>2</li><li>3</li><li>4</li><li>5</li><li>6</li><li>7</li></ol>\n"
            ],
            "text/markdown": "1. 1\n2. 2\n3. 3\n4. 4\n5. 5\n6. 6\n7. 7\n\n\n",
            "text/latex": "\\begin{enumerate*}\n\\item 1\n\\item 2\n\\item 3\n\\item 4\n\\item 5\n\\item 6\n\\item 7\n\\end{enumerate*}\n",
            "text/plain": [
              "[1] 1 2 3 4 5 6 7"
            ]
          },
          "metadata": {}
        }
      ]
    },
    {
      "cell_type": "code",
      "source": [
        "rev(v)"
      ],
      "metadata": {
        "colab": {
          "base_uri": "https://localhost:8080/",
          "height": 34
        },
        "id": "OyRZu31Qv4_Y",
        "outputId": "d5747a11-0df9-48e0-c3c0-29cb86aa9a79"
      },
      "execution_count": 33,
      "outputs": [
        {
          "output_type": "display_data",
          "data": {
            "text/html": [
              "<style>\n",
              ".list-inline {list-style: none; margin:0; padding: 0}\n",
              ".list-inline>li {display: inline-block}\n",
              ".list-inline>li:not(:last-child)::after {content: \"\\00b7\"; padding: 0 .5ex}\n",
              "</style>\n",
              "<ol class=list-inline><li>7</li><li>6</li><li>5</li><li>4</li><li>3</li><li>2</li><li>1</li></ol>\n"
            ],
            "text/markdown": "1. 7\n2. 6\n3. 5\n4. 4\n5. 3\n6. 2\n7. 1\n\n\n",
            "text/latex": "\\begin{enumerate*}\n\\item 7\n\\item 6\n\\item 5\n\\item 4\n\\item 3\n\\item 2\n\\item 1\n\\end{enumerate*}\n",
            "text/plain": [
              "[1] 7 6 5 4 3 2 1"
            ]
          },
          "metadata": {}
        }
      ]
    },
    {
      "cell_type": "code",
      "source": [
        "x = 1:10\n"
      ],
      "metadata": {
        "id": "W6A0BqBYv6IA"
      },
      "execution_count": 34,
      "outputs": []
    },
    {
      "cell_type": "code",
      "source": [
        "length(x)"
      ],
      "metadata": {
        "colab": {
          "base_uri": "https://localhost:8080/",
          "height": 34
        },
        "id": "iU9j1Ue6wQD3",
        "outputId": "59cc1a9f-e98f-493b-807e-a7545175d076"
      },
      "execution_count": 35,
      "outputs": [
        {
          "output_type": "display_data",
          "data": {
            "text/html": [
              "10"
            ],
            "text/markdown": "10",
            "text/latex": "10",
            "text/plain": [
              "[1] 10"
            ]
          },
          "metadata": {}
        }
      ]
    },
    {
      "cell_type": "code",
      "source": [
        "max(x)"
      ],
      "metadata": {
        "colab": {
          "base_uri": "https://localhost:8080/",
          "height": 34
        },
        "id": "um-v8rQswRKg",
        "outputId": "75282d53-1c70-41c5-be6a-7c362b8face2"
      },
      "execution_count": 36,
      "outputs": [
        {
          "output_type": "display_data",
          "data": {
            "text/html": [
              "10"
            ],
            "text/markdown": "10",
            "text/latex": "10",
            "text/plain": [
              "[1] 10"
            ]
          },
          "metadata": {}
        }
      ]
    },
    {
      "cell_type": "code",
      "source": [
        "min(x)"
      ],
      "metadata": {
        "colab": {
          "base_uri": "https://localhost:8080/",
          "height": 34
        },
        "id": "PQv9U3RVwSO3",
        "outputId": "2edb4d03-971e-47d6-f58e-e9e069d79774"
      },
      "execution_count": 37,
      "outputs": [
        {
          "output_type": "display_data",
          "data": {
            "text/html": [
              "1"
            ],
            "text/markdown": "1",
            "text/latex": "1",
            "text/plain": [
              "[1] 1"
            ]
          },
          "metadata": {}
        }
      ]
    },
    {
      "cell_type": "code",
      "source": [
        "sum(x)"
      ],
      "metadata": {
        "colab": {
          "base_uri": "https://localhost:8080/",
          "height": 34
        },
        "id": "mreWEcBLwTMY",
        "outputId": "2f19b965-d83f-48ba-b65b-58f0da059326"
      },
      "execution_count": 38,
      "outputs": [
        {
          "output_type": "display_data",
          "data": {
            "text/html": [
              "55"
            ],
            "text/markdown": "55",
            "text/latex": "55",
            "text/plain": [
              "[1] 55"
            ]
          },
          "metadata": {}
        }
      ]
    },
    {
      "cell_type": "code",
      "source": [
        "prod(x)"
      ],
      "metadata": {
        "colab": {
          "base_uri": "https://localhost:8080/",
          "height": 34
        },
        "id": "cjTTeOGkwUBX",
        "outputId": "b95189a7-ec73-460b-c49a-2ad9b3d51bda"
      },
      "execution_count": 39,
      "outputs": [
        {
          "output_type": "display_data",
          "data": {
            "text/html": [
              "3628800"
            ],
            "text/markdown": "3628800",
            "text/latex": "3628800",
            "text/plain": [
              "[1] 3628800"
            ]
          },
          "metadata": {}
        }
      ]
    },
    {
      "cell_type": "code",
      "source": [
        "mean(x)"
      ],
      "metadata": {
        "colab": {
          "base_uri": "https://localhost:8080/",
          "height": 34
        },
        "id": "NuEOl_alwVAv",
        "outputId": "8e5b3133-b2c5-43e0-f78c-cd4d2b96ce2a"
      },
      "execution_count": 40,
      "outputs": [
        {
          "output_type": "display_data",
          "data": {
            "text/html": [
              "5.5"
            ],
            "text/markdown": "5.5",
            "text/latex": "5.5",
            "text/plain": [
              "[1] 5.5"
            ]
          },
          "metadata": {}
        }
      ]
    },
    {
      "cell_type": "code",
      "source": [
        "cumsum(x)"
      ],
      "metadata": {
        "colab": {
          "base_uri": "https://localhost:8080/",
          "height": 34
        },
        "id": "CIo2U9aowW-n",
        "outputId": "e80fd074-18e0-4cf1-f630-fa79a2eff958"
      },
      "execution_count": 41,
      "outputs": [
        {
          "output_type": "display_data",
          "data": {
            "text/html": [
              "<style>\n",
              ".list-inline {list-style: none; margin:0; padding: 0}\n",
              ".list-inline>li {display: inline-block}\n",
              ".list-inline>li:not(:last-child)::after {content: \"\\00b7\"; padding: 0 .5ex}\n",
              "</style>\n",
              "<ol class=list-inline><li>1</li><li>3</li><li>6</li><li>10</li><li>15</li><li>21</li><li>28</li><li>36</li><li>45</li><li>55</li></ol>\n"
            ],
            "text/markdown": "1. 1\n2. 3\n3. 6\n4. 10\n5. 15\n6. 21\n7. 28\n8. 36\n9. 45\n10. 55\n\n\n",
            "text/latex": "\\begin{enumerate*}\n\\item 1\n\\item 3\n\\item 6\n\\item 10\n\\item 15\n\\item 21\n\\item 28\n\\item 36\n\\item 45\n\\item 55\n\\end{enumerate*}\n",
            "text/plain": [
              " [1]  1  3  6 10 15 21 28 36 45 55"
            ]
          },
          "metadata": {}
        }
      ]
    },
    {
      "cell_type": "code",
      "source": [
        "cummax(x)"
      ],
      "metadata": {
        "colab": {
          "base_uri": "https://localhost:8080/",
          "height": 34
        },
        "id": "fkk1Px4twZWp",
        "outputId": "34ba3848-84d3-46c3-cb3a-bb01e732005a"
      },
      "execution_count": 42,
      "outputs": [
        {
          "output_type": "display_data",
          "data": {
            "text/html": [
              "<style>\n",
              ".list-inline {list-style: none; margin:0; padding: 0}\n",
              ".list-inline>li {display: inline-block}\n",
              ".list-inline>li:not(:last-child)::after {content: \"\\00b7\"; padding: 0 .5ex}\n",
              "</style>\n",
              "<ol class=list-inline><li>1</li><li>2</li><li>3</li><li>4</li><li>5</li><li>6</li><li>7</li><li>8</li><li>9</li><li>10</li></ol>\n"
            ],
            "text/markdown": "1. 1\n2. 2\n3. 3\n4. 4\n5. 5\n6. 6\n7. 7\n8. 8\n9. 9\n10. 10\n\n\n",
            "text/latex": "\\begin{enumerate*}\n\\item 1\n\\item 2\n\\item 3\n\\item 4\n\\item 5\n\\item 6\n\\item 7\n\\item 8\n\\item 9\n\\item 10\n\\end{enumerate*}\n",
            "text/plain": [
              " [1]  1  2  3  4  5  6  7  8  9 10"
            ]
          },
          "metadata": {}
        }
      ]
    },
    {
      "cell_type": "code",
      "source": [
        "cumprod(x)"
      ],
      "metadata": {
        "colab": {
          "base_uri": "https://localhost:8080/",
          "height": 34
        },
        "id": "58DH1XpiwbMg",
        "outputId": "22ba955b-46c3-4383-dc9b-bffb4070c51d"
      },
      "execution_count": 43,
      "outputs": [
        {
          "output_type": "display_data",
          "data": {
            "text/html": [
              "<style>\n",
              ".list-inline {list-style: none; margin:0; padding: 0}\n",
              ".list-inline>li {display: inline-block}\n",
              ".list-inline>li:not(:last-child)::after {content: \"\\00b7\"; padding: 0 .5ex}\n",
              "</style>\n",
              "<ol class=list-inline><li>1</li><li>2</li><li>6</li><li>24</li><li>120</li><li>720</li><li>5040</li><li>40320</li><li>362880</li><li>3628800</li></ol>\n"
            ],
            "text/markdown": "1. 1\n2. 2\n3. 6\n4. 24\n5. 120\n6. 720\n7. 5040\n8. 40320\n9. 362880\n10. 3628800\n\n\n",
            "text/latex": "\\begin{enumerate*}\n\\item 1\n\\item 2\n\\item 6\n\\item 24\n\\item 120\n\\item 720\n\\item 5040\n\\item 40320\n\\item 362880\n\\item 3628800\n\\end{enumerate*}\n",
            "text/plain": [
              " [1]       1       2       6      24     120     720    5040   40320  362880\n",
              "[10] 3628800"
            ]
          },
          "metadata": {}
        }
      ]
    },
    {
      "cell_type": "code",
      "source": [
        "diff(x)"
      ],
      "metadata": {
        "colab": {
          "base_uri": "https://localhost:8080/",
          "height": 34
        },
        "id": "gIE510AUwcqg",
        "outputId": "64a1be88-9639-489f-fecc-4358cf15d91a"
      },
      "execution_count": 44,
      "outputs": [
        {
          "output_type": "display_data",
          "data": {
            "text/html": [
              "<style>\n",
              ".list-inline {list-style: none; margin:0; padding: 0}\n",
              ".list-inline>li {display: inline-block}\n",
              ".list-inline>li:not(:last-child)::after {content: \"\\00b7\"; padding: 0 .5ex}\n",
              "</style>\n",
              "<ol class=list-inline><li>1</li><li>1</li><li>1</li><li>1</li><li>1</li><li>1</li><li>1</li><li>1</li><li>1</li></ol>\n"
            ],
            "text/markdown": "1. 1\n2. 1\n3. 1\n4. 1\n5. 1\n6. 1\n7. 1\n8. 1\n9. 1\n\n\n",
            "text/latex": "\\begin{enumerate*}\n\\item 1\n\\item 1\n\\item 1\n\\item 1\n\\item 1\n\\item 1\n\\item 1\n\\item 1\n\\item 1\n\\end{enumerate*}\n",
            "text/plain": [
              "[1] 1 1 1 1 1 1 1 1 1"
            ]
          },
          "metadata": {}
        }
      ]
    },
    {
      "cell_type": "code",
      "source": [
        "diff(cumsum(x))"
      ],
      "metadata": {
        "colab": {
          "base_uri": "https://localhost:8080/",
          "height": 34
        },
        "id": "nc7RSQgYweaf",
        "outputId": "98ba6996-c401-4714-8e48-8fee4bfb125c"
      },
      "execution_count": 45,
      "outputs": [
        {
          "output_type": "display_data",
          "data": {
            "text/html": [
              "<style>\n",
              ".list-inline {list-style: none; margin:0; padding: 0}\n",
              ".list-inline>li {display: inline-block}\n",
              ".list-inline>li:not(:last-child)::after {content: \"\\00b7\"; padding: 0 .5ex}\n",
              "</style>\n",
              "<ol class=list-inline><li>2</li><li>3</li><li>4</li><li>5</li><li>6</li><li>7</li><li>8</li><li>9</li><li>10</li></ol>\n"
            ],
            "text/markdown": "1. 2\n2. 3\n3. 4\n4. 5\n5. 6\n6. 7\n7. 8\n8. 9\n9. 10\n\n\n",
            "text/latex": "\\begin{enumerate*}\n\\item 2\n\\item 3\n\\item 4\n\\item 5\n\\item 6\n\\item 7\n\\item 8\n\\item 9\n\\item 10\n\\end{enumerate*}\n",
            "text/plain": [
              "[1]  2  3  4  5  6  7  8  9 10"
            ]
          },
          "metadata": {}
        }
      ]
    },
    {
      "cell_type": "code",
      "source": [
        "sort(x)"
      ],
      "metadata": {
        "colab": {
          "base_uri": "https://localhost:8080/",
          "height": 34
        },
        "id": "wDpkIQYfwjNI",
        "outputId": "a1e9f84a-4642-4d70-ab61-dc796007cb1f"
      },
      "execution_count": 46,
      "outputs": [
        {
          "output_type": "display_data",
          "data": {
            "text/html": [
              "<style>\n",
              ".list-inline {list-style: none; margin:0; padding: 0}\n",
              ".list-inline>li {display: inline-block}\n",
              ".list-inline>li:not(:last-child)::after {content: \"\\00b7\"; padding: 0 .5ex}\n",
              "</style>\n",
              "<ol class=list-inline><li>1</li><li>2</li><li>3</li><li>4</li><li>5</li><li>6</li><li>7</li><li>8</li><li>9</li><li>10</li></ol>\n"
            ],
            "text/markdown": "1. 1\n2. 2\n3. 3\n4. 4\n5. 5\n6. 6\n7. 7\n8. 8\n9. 9\n10. 10\n\n\n",
            "text/latex": "\\begin{enumerate*}\n\\item 1\n\\item 2\n\\item 3\n\\item 4\n\\item 5\n\\item 6\n\\item 7\n\\item 8\n\\item 9\n\\item 10\n\\end{enumerate*}\n",
            "text/plain": [
              " [1]  1  2  3  4  5  6  7  8  9 10"
            ]
          },
          "metadata": {}
        }
      ]
    },
    {
      "cell_type": "code",
      "source": [
        "rev(x)"
      ],
      "metadata": {
        "colab": {
          "base_uri": "https://localhost:8080/",
          "height": 34
        },
        "id": "uNf1rUoWwl5A",
        "outputId": "4f46f276-d1e5-41af-da5e-a01584a5d403"
      },
      "execution_count": 47,
      "outputs": [
        {
          "output_type": "display_data",
          "data": {
            "text/html": [
              "<style>\n",
              ".list-inline {list-style: none; margin:0; padding: 0}\n",
              ".list-inline>li {display: inline-block}\n",
              ".list-inline>li:not(:last-child)::after {content: \"\\00b7\"; padding: 0 .5ex}\n",
              "</style>\n",
              "<ol class=list-inline><li>10</li><li>9</li><li>8</li><li>7</li><li>6</li><li>5</li><li>4</li><li>3</li><li>2</li><li>1</li></ol>\n"
            ],
            "text/markdown": "1. 10\n2. 9\n3. 8\n4. 7\n5. 6\n6. 5\n7. 4\n8. 3\n9. 2\n10. 1\n\n\n",
            "text/latex": "\\begin{enumerate*}\n\\item 10\n\\item 9\n\\item 8\n\\item 7\n\\item 6\n\\item 5\n\\item 4\n\\item 3\n\\item 2\n\\item 1\n\\end{enumerate*}\n",
            "text/plain": [
              " [1] 10  9  8  7  6  5  4  3  2  1"
            ]
          },
          "metadata": {}
        }
      ]
    },
    {
      "cell_type": "code",
      "source": [
        "sort(x, decreasing = TRUE)"
      ],
      "metadata": {
        "colab": {
          "base_uri": "https://localhost:8080/",
          "height": 34
        },
        "id": "ztA1ycImwm1P",
        "outputId": "a980808e-2b95-4eb4-98a6-9299dd1bd788"
      },
      "execution_count": 49,
      "outputs": [
        {
          "output_type": "display_data",
          "data": {
            "text/html": [
              "<style>\n",
              ".list-inline {list-style: none; margin:0; padding: 0}\n",
              ".list-inline>li {display: inline-block}\n",
              ".list-inline>li:not(:last-child)::after {content: \"\\00b7\"; padding: 0 .5ex}\n",
              "</style>\n",
              "<ol class=list-inline><li>10</li><li>9</li><li>8</li><li>7</li><li>6</li><li>5</li><li>4</li><li>3</li><li>2</li><li>1</li></ol>\n"
            ],
            "text/markdown": "1. 10\n2. 9\n3. 8\n4. 7\n5. 6\n6. 5\n7. 4\n8. 3\n9. 2\n10. 1\n\n\n",
            "text/latex": "\\begin{enumerate*}\n\\item 10\n\\item 9\n\\item 8\n\\item 7\n\\item 6\n\\item 5\n\\item 4\n\\item 3\n\\item 2\n\\item 1\n\\end{enumerate*}\n",
            "text/plain": [
              " [1] 10  9  8  7  6  5  4  3  2  1"
            ]
          },
          "metadata": {}
        }
      ]
    },
    {
      "cell_type": "code",
      "source": [],
      "metadata": {
        "id": "KuYe5Wdiwq8n"
      },
      "execution_count": null,
      "outputs": []
    }
  ]
}